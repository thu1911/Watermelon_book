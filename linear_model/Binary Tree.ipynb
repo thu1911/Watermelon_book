{
 "cells": [
  {
   "cell_type": "markdown",
   "metadata": {},
   "source": [
    "# Definition of Binary Tree"
   ]
  },
  {
   "cell_type": "code",
   "execution_count": 20,
   "metadata": {},
   "outputs": [],
   "source": [
    "class BinaryTree:\n",
    "    def __init__(self,value):\n",
    "        self.value = value\n",
    "        self.left_child = None\n",
    "        self.right_child = None\n",
    "        \n",
    "    # insert node\n",
    "    # if the node doesn't have left node, just add it\n",
    "    # if the node has left node, then ,insert new node beween the parent and previous child\n",
    "    def insert_left(self, value):\n",
    "        if self.left_child == None:\n",
    "            self.left_child = BinaryTree(value)\n",
    "        else:\n",
    "            new_node = BinaryTree(value)\n",
    "            new_node.left_child = self.left_child\n",
    "            self.left_child = new_node\n",
    "    \n",
    "    \n",
    "    def insert_right(self, value):\n",
    "        if self.right_child == None:\n",
    "            self.right_child = BinaryTree(value)\n",
    "        else:\n",
    "            new_node = BinaryTree(value)\n",
    "            new_node.right_child = self.right_child\n",
    "            self.right_child = new_node\n",
    "            "
   ]
  },
  {
   "cell_type": "markdown",
   "metadata": {},
   "source": [
    "# Build Binary Tree"
   ]
  },
  {
   "cell_type": "markdown",
   "metadata": {},
   "source": [
    "a --> b --> d\n",
    "\n",
    "a --> c --> e\n",
    "\n",
    "a --> c --> f"
   ]
  },
  {
   "cell_type": "code",
   "execution_count": 21,
   "metadata": {},
   "outputs": [
    {
     "name": "stdout",
     "output_type": "stream",
     "text": [
      "a\n",
      "b\n",
      "c\n",
      "d\n",
      "e\n",
      "f\n"
     ]
    }
   ],
   "source": [
    "a_node = BinaryTree(\"a\")\n",
    "a_node.insert_left(\"b\")\n",
    "a_node.insert_right(\"c\")\n",
    "b_node = a_node.left_child\n",
    "c_node = a_node.right_child\n",
    "b_node.insert_right('d')\n",
    "c_node.insert_left('e')\n",
    "c_node.insert_right('f')\n",
    "d_node = b_node.right_child\n",
    "e_node = c_node.left_child\n",
    "f_node = c_node.right_child\n",
    "\n",
    "print(a_node.value) # a\n",
    "print(b_node.value) # b\n",
    "print(c_node.value) # c\n",
    "print(d_node.value) # d\n",
    "print(e_node.value) # e\n",
    "print(f_node.value) # f"
   ]
  },
  {
   "cell_type": "markdown",
   "metadata": {},
   "source": [
    "# Tree Traversal"
   ]
  },
  {
   "cell_type": "markdown",
   "metadata": {},
   "source": [
    "## DFS(Depth First Search)"
   ]
  },
  {
   "cell_type": "markdown",
   "metadata": {},
   "source": [
    "    1\n",
    "    \n",
    "    2    5\n",
    "   \n",
    "    3  4  6  7"
   ]
  },
  {
   "cell_type": "markdown",
   "metadata": {},
   "source": [
    "### Pre-order(1234567)"
   ]
  },
  {
   "cell_type": "code",
   "execution_count": 24,
   "metadata": {},
   "outputs": [],
   "source": [
    "def pre_order(self):\n",
    "    print(self.value)\n",
    "    \n",
    "    if self.left_child:\n",
    "        pre_order(self.left_child)\n",
    "    \n",
    "    if self.right_child:\n",
    "        pre_order(self.right_child)"
   ]
  },
  {
   "cell_type": "markdown",
   "metadata": {},
   "source": [
    "### In-order(3241657)"
   ]
  },
  {
   "cell_type": "code",
   "execution_count": 27,
   "metadata": {},
   "outputs": [],
   "source": [
    "def in_order(self):\n",
    "    if self.left_child:\n",
    "        in_order(self.left_child)\n",
    "        \n",
    "    print(self.value)\n",
    "    \n",
    "    if self.right_child:\n",
    "        in_order(self.right_child)       "
   ]
  },
  {
   "cell_type": "markdown",
   "metadata": {},
   "source": [
    "### Post-order(3426751)"
   ]
  },
  {
   "cell_type": "code",
   "execution_count": 29,
   "metadata": {},
   "outputs": [],
   "source": [
    "def post_order(self):\n",
    "    if self.left_child:\n",
    "        post_order(left_child)\n",
    "    if self.right_child:\n",
    "        post_order(right_child)\n",
    "    print(self.value)"
   ]
  },
  {
   "cell_type": "markdown",
   "metadata": {},
   "source": [
    "## BFS(Broad First Search)"
   ]
  },
  {
   "cell_type": "code",
   "execution_count": 33,
   "metadata": {},
   "outputs": [],
   "source": [
    "from queue import Queue\n",
    "def dfs(self):\n",
    "    queue = Queue()\n",
    "    queue.put(self)\n",
    "    while not queue.empty():\n",
    "        q = queue.get()\n",
    "        print(q.value)\n",
    "        if q.left_child:\n",
    "            queue.put(q.left_child)\n",
    "        if q.right_child:\n",
    "            queue.put(q.right_child)\n",
    "    \n"
   ]
  }
 ],
 "metadata": {
  "kernelspec": {
   "display_name": "Python 3",
   "language": "python",
   "name": "python3"
  },
  "language_info": {
   "codemirror_mode": {
    "name": "ipython",
    "version": 3
   },
   "file_extension": ".py",
   "mimetype": "text/x-python",
   "name": "python",
   "nbconvert_exporter": "python",
   "pygments_lexer": "ipython3",
   "version": "3.7.1"
  }
 },
 "nbformat": 4,
 "nbformat_minor": 2
}
