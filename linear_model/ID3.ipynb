{
 "cells": [
  {
   "cell_type": "markdown",
   "metadata": {},
   "source": [
    "# Task"
   ]
  },
  {
   "cell_type": "markdown",
   "metadata": {},
   "source": [
    "Implement ID3 algorithm and test it with watermelon dataset."
   ]
  },
  {
   "cell_type": "markdown",
   "metadata": {},
   "source": [
    "# Dataset"
   ]
  },
  {
   "cell_type": "code",
   "execution_count": 4,
   "metadata": {},
   "outputs": [],
   "source": [
    "def createDataSet():\n",
    "    \"\"\"\n",
    "    创建测试的数据集，里面的数值中具有连续值\n",
    "    :return:\n",
    "    \"\"\"\n",
    "    dataSet = [\n",
    "        # 1\n",
    "        ['青绿', '蜷缩', '浊响', '清晰', '凹陷', '硬滑', 0.697, 0.460, '好瓜'],\n",
    "        # 2\n",
    "        ['乌黑', '蜷缩', '沉闷', '清晰', '凹陷', '硬滑', 0.774, 0.376, '好瓜'],\n",
    "        # 3\n",
    "        ['乌黑', '蜷缩', '浊响', '清晰', '凹陷', '硬滑', 0.634, 0.264, '好瓜'],\n",
    "        # 4\n",
    "        ['青绿', '蜷缩', '沉闷', '清晰', '凹陷', '硬滑', 0.608, 0.318, '好瓜'],\n",
    "        # 5\n",
    "        ['浅白', '蜷缩', '浊响', '清晰', '凹陷', '硬滑', 0.556, 0.215, '好瓜'],\n",
    "        # 6\n",
    "        ['青绿', '稍蜷', '浊响', '清晰', '稍凹', '软粘', 0.403, 0.237, '好瓜'],\n",
    "        # 7\n",
    "        ['乌黑', '稍蜷', '浊响', '稍糊', '稍凹', '软粘', 0.481, 0.149, '好瓜'],\n",
    "        # 8\n",
    "        ['乌黑', '稍蜷', '浊响', '清晰', '稍凹', '硬滑', 0.437, 0.211, '好瓜'],\n",
    "\n",
    "        # ----------------------------------------------------\n",
    "        # 9\n",
    "        ['乌黑', '稍蜷', '沉闷', '稍糊', '稍凹', '硬滑', 0.666, 0.091, '坏瓜'],\n",
    "        # 10\n",
    "        ['青绿', '硬挺', '清脆', '清晰', '平坦', '软粘', 0.243, 0.267, '坏瓜'],\n",
    "        # 11\n",
    "        ['浅白', '硬挺', '清脆', '模糊', '平坦', '硬滑', 0.245, 0.057, '坏瓜'],\n",
    "        # 12\n",
    "        ['浅白', '蜷缩', '浊响', '模糊', '平坦', '软粘', 0.343, 0.099, '坏瓜'],\n",
    "        # 13\n",
    "        ['青绿', '稍蜷', '浊响', '稍糊', '凹陷', '硬滑', 0.639, 0.161, '坏瓜'],\n",
    "        # 14\n",
    "        ['浅白', '稍蜷', '沉闷', '稍糊', '凹陷', '硬滑', 0.657, 0.198, '坏瓜'],\n",
    "        # 15\n",
    "        ['乌黑', '稍蜷', '浊响', '清晰', '稍凹', '软粘', 0.360, 0.370, '坏瓜'],\n",
    "        # 16\n",
    "        ['浅白', '蜷缩', '浊响', '模糊', '平坦', '硬滑', 0.593, 0.042, '坏瓜'],\n",
    "        # 17\n",
    "        ['青绿', '蜷缩', '沉闷', '稍糊', '稍凹', '硬滑', 0.719, 0.103, '坏瓜']\n",
    "    ]\n",
    "    return dataSet"
   ]
  },
  {
   "cell_type": "code",
   "execution_count": 7,
   "metadata": {},
   "outputs": [],
   "source": [
    "dataSet = createDataSet()"
   ]
  },
  {
   "cell_type": "code",
   "execution_count": 195,
   "metadata": {},
   "outputs": [],
   "source": [
    "import numpy as np\n",
    "import pandas as pds\n",
    "import matplotlib.pyplot as plt"
   ]
  },
  {
   "cell_type": "code",
   "execution_count": 22,
   "metadata": {},
   "outputs": [],
   "source": [
    "data_in_frame = pds.DataFrame(data=dataSet, columns=[\"色泽\",\"根蒂\",\"敲声\",\"纹理\",\"脐部\",\"触感\",\"-\",\"-\",\"好瓜\"])\n",
    "column_name = data_in_frame.columns\n",
    "column_name = column_name[column_name != \"-\"]\n",
    "data_in_frame = data_in_frame.loc[:, column_name]"
   ]
  },
  {
   "cell_type": "code",
   "execution_count": 23,
   "metadata": {},
   "outputs": [
    {
     "data": {
      "text/html": [
       "<div>\n",
       "<style scoped>\n",
       "    .dataframe tbody tr th:only-of-type {\n",
       "        vertical-align: middle;\n",
       "    }\n",
       "\n",
       "    .dataframe tbody tr th {\n",
       "        vertical-align: top;\n",
       "    }\n",
       "\n",
       "    .dataframe thead th {\n",
       "        text-align: right;\n",
       "    }\n",
       "</style>\n",
       "<table border=\"1\" class=\"dataframe\">\n",
       "  <thead>\n",
       "    <tr style=\"text-align: right;\">\n",
       "      <th></th>\n",
       "      <th>色泽</th>\n",
       "      <th>根蒂</th>\n",
       "      <th>敲声</th>\n",
       "      <th>纹理</th>\n",
       "      <th>脐部</th>\n",
       "      <th>触感</th>\n",
       "      <th>好瓜</th>\n",
       "    </tr>\n",
       "  </thead>\n",
       "  <tbody>\n",
       "    <tr>\n",
       "      <th>0</th>\n",
       "      <td>青绿</td>\n",
       "      <td>蜷缩</td>\n",
       "      <td>浊响</td>\n",
       "      <td>清晰</td>\n",
       "      <td>凹陷</td>\n",
       "      <td>硬滑</td>\n",
       "      <td>好瓜</td>\n",
       "    </tr>\n",
       "    <tr>\n",
       "      <th>1</th>\n",
       "      <td>乌黑</td>\n",
       "      <td>蜷缩</td>\n",
       "      <td>沉闷</td>\n",
       "      <td>清晰</td>\n",
       "      <td>凹陷</td>\n",
       "      <td>硬滑</td>\n",
       "      <td>好瓜</td>\n",
       "    </tr>\n",
       "    <tr>\n",
       "      <th>2</th>\n",
       "      <td>乌黑</td>\n",
       "      <td>蜷缩</td>\n",
       "      <td>浊响</td>\n",
       "      <td>清晰</td>\n",
       "      <td>凹陷</td>\n",
       "      <td>硬滑</td>\n",
       "      <td>好瓜</td>\n",
       "    </tr>\n",
       "    <tr>\n",
       "      <th>3</th>\n",
       "      <td>青绿</td>\n",
       "      <td>蜷缩</td>\n",
       "      <td>沉闷</td>\n",
       "      <td>清晰</td>\n",
       "      <td>凹陷</td>\n",
       "      <td>硬滑</td>\n",
       "      <td>好瓜</td>\n",
       "    </tr>\n",
       "    <tr>\n",
       "      <th>4</th>\n",
       "      <td>浅白</td>\n",
       "      <td>蜷缩</td>\n",
       "      <td>浊响</td>\n",
       "      <td>清晰</td>\n",
       "      <td>凹陷</td>\n",
       "      <td>硬滑</td>\n",
       "      <td>好瓜</td>\n",
       "    </tr>\n",
       "    <tr>\n",
       "      <th>5</th>\n",
       "      <td>青绿</td>\n",
       "      <td>稍蜷</td>\n",
       "      <td>浊响</td>\n",
       "      <td>清晰</td>\n",
       "      <td>稍凹</td>\n",
       "      <td>软粘</td>\n",
       "      <td>好瓜</td>\n",
       "    </tr>\n",
       "    <tr>\n",
       "      <th>6</th>\n",
       "      <td>乌黑</td>\n",
       "      <td>稍蜷</td>\n",
       "      <td>浊响</td>\n",
       "      <td>稍糊</td>\n",
       "      <td>稍凹</td>\n",
       "      <td>软粘</td>\n",
       "      <td>好瓜</td>\n",
       "    </tr>\n",
       "    <tr>\n",
       "      <th>7</th>\n",
       "      <td>乌黑</td>\n",
       "      <td>稍蜷</td>\n",
       "      <td>浊响</td>\n",
       "      <td>清晰</td>\n",
       "      <td>稍凹</td>\n",
       "      <td>硬滑</td>\n",
       "      <td>好瓜</td>\n",
       "    </tr>\n",
       "    <tr>\n",
       "      <th>8</th>\n",
       "      <td>乌黑</td>\n",
       "      <td>稍蜷</td>\n",
       "      <td>沉闷</td>\n",
       "      <td>稍糊</td>\n",
       "      <td>稍凹</td>\n",
       "      <td>硬滑</td>\n",
       "      <td>坏瓜</td>\n",
       "    </tr>\n",
       "    <tr>\n",
       "      <th>9</th>\n",
       "      <td>青绿</td>\n",
       "      <td>硬挺</td>\n",
       "      <td>清脆</td>\n",
       "      <td>清晰</td>\n",
       "      <td>平坦</td>\n",
       "      <td>软粘</td>\n",
       "      <td>坏瓜</td>\n",
       "    </tr>\n",
       "    <tr>\n",
       "      <th>10</th>\n",
       "      <td>浅白</td>\n",
       "      <td>硬挺</td>\n",
       "      <td>清脆</td>\n",
       "      <td>模糊</td>\n",
       "      <td>平坦</td>\n",
       "      <td>硬滑</td>\n",
       "      <td>坏瓜</td>\n",
       "    </tr>\n",
       "    <tr>\n",
       "      <th>11</th>\n",
       "      <td>浅白</td>\n",
       "      <td>蜷缩</td>\n",
       "      <td>浊响</td>\n",
       "      <td>模糊</td>\n",
       "      <td>平坦</td>\n",
       "      <td>软粘</td>\n",
       "      <td>坏瓜</td>\n",
       "    </tr>\n",
       "    <tr>\n",
       "      <th>12</th>\n",
       "      <td>青绿</td>\n",
       "      <td>稍蜷</td>\n",
       "      <td>浊响</td>\n",
       "      <td>稍糊</td>\n",
       "      <td>凹陷</td>\n",
       "      <td>硬滑</td>\n",
       "      <td>坏瓜</td>\n",
       "    </tr>\n",
       "    <tr>\n",
       "      <th>13</th>\n",
       "      <td>浅白</td>\n",
       "      <td>稍蜷</td>\n",
       "      <td>沉闷</td>\n",
       "      <td>稍糊</td>\n",
       "      <td>凹陷</td>\n",
       "      <td>硬滑</td>\n",
       "      <td>坏瓜</td>\n",
       "    </tr>\n",
       "    <tr>\n",
       "      <th>14</th>\n",
       "      <td>乌黑</td>\n",
       "      <td>稍蜷</td>\n",
       "      <td>浊响</td>\n",
       "      <td>清晰</td>\n",
       "      <td>稍凹</td>\n",
       "      <td>软粘</td>\n",
       "      <td>坏瓜</td>\n",
       "    </tr>\n",
       "    <tr>\n",
       "      <th>15</th>\n",
       "      <td>浅白</td>\n",
       "      <td>蜷缩</td>\n",
       "      <td>浊响</td>\n",
       "      <td>模糊</td>\n",
       "      <td>平坦</td>\n",
       "      <td>硬滑</td>\n",
       "      <td>坏瓜</td>\n",
       "    </tr>\n",
       "    <tr>\n",
       "      <th>16</th>\n",
       "      <td>青绿</td>\n",
       "      <td>蜷缩</td>\n",
       "      <td>沉闷</td>\n",
       "      <td>稍糊</td>\n",
       "      <td>稍凹</td>\n",
       "      <td>硬滑</td>\n",
       "      <td>坏瓜</td>\n",
       "    </tr>\n",
       "  </tbody>\n",
       "</table>\n",
       "</div>"
      ],
      "text/plain": [
       "    色泽  根蒂  敲声  纹理  脐部  触感  好瓜\n",
       "0   青绿  蜷缩  浊响  清晰  凹陷  硬滑  好瓜\n",
       "1   乌黑  蜷缩  沉闷  清晰  凹陷  硬滑  好瓜\n",
       "2   乌黑  蜷缩  浊响  清晰  凹陷  硬滑  好瓜\n",
       "3   青绿  蜷缩  沉闷  清晰  凹陷  硬滑  好瓜\n",
       "4   浅白  蜷缩  浊响  清晰  凹陷  硬滑  好瓜\n",
       "5   青绿  稍蜷  浊响  清晰  稍凹  软粘  好瓜\n",
       "6   乌黑  稍蜷  浊响  稍糊  稍凹  软粘  好瓜\n",
       "7   乌黑  稍蜷  浊响  清晰  稍凹  硬滑  好瓜\n",
       "8   乌黑  稍蜷  沉闷  稍糊  稍凹  硬滑  坏瓜\n",
       "9   青绿  硬挺  清脆  清晰  平坦  软粘  坏瓜\n",
       "10  浅白  硬挺  清脆  模糊  平坦  硬滑  坏瓜\n",
       "11  浅白  蜷缩  浊响  模糊  平坦  软粘  坏瓜\n",
       "12  青绿  稍蜷  浊响  稍糊  凹陷  硬滑  坏瓜\n",
       "13  浅白  稍蜷  沉闷  稍糊  凹陷  硬滑  坏瓜\n",
       "14  乌黑  稍蜷  浊响  清晰  稍凹  软粘  坏瓜\n",
       "15  浅白  蜷缩  浊响  模糊  平坦  硬滑  坏瓜\n",
       "16  青绿  蜷缩  沉闷  稍糊  稍凹  硬滑  坏瓜"
      ]
     },
     "execution_count": 23,
     "metadata": {},
     "output_type": "execute_result"
    }
   ],
   "source": [
    "data_in_frame"
   ]
  },
  {
   "cell_type": "markdown",
   "metadata": {},
   "source": [
    "# Entropy"
   ]
  },
  {
   "cell_type": "code",
   "execution_count": 65,
   "metadata": {},
   "outputs": [],
   "source": [
    "def entropy(y):\n",
    "    \"\"\"\n",
    "    y:  sample * (feature + label)\n",
    "        dataframe\n",
    "    \"\"\"\n",
    "    label = y.iloc[:, -1]\n",
    "    typeoflabel = label.value_counts()\n",
    "    numoflabel = len(typeoflabel)\n",
    "    \n",
    "    ent = 0\n",
    "    for i in range(numoflabel):\n",
    "        p = typeoflabel[i]/len(label)\n",
    "        ent += -p*np.log2(p) \n",
    "    return ent    "
   ]
  },
  {
   "cell_type": "code",
   "execution_count": 66,
   "metadata": {},
   "outputs": [
    {
     "data": {
      "text/plain": [
       "0.9975025463691153"
      ]
     },
     "execution_count": 66,
     "metadata": {},
     "output_type": "execute_result"
    }
   ],
   "source": [
    "entropy(data_in_frame)"
   ]
  },
  {
   "cell_type": "markdown",
   "metadata": {},
   "source": [
    "# Info Gain"
   ]
  },
  {
   "cell_type": "code",
   "execution_count": 208,
   "metadata": {},
   "outputs": [],
   "source": [
    "def info_gain(y,split_feature):\n",
    "    \"\"\"\n",
    "    y: sample * (feature + label)\n",
    "    split_feature_index: current feature\n",
    "    \"\"\"\n",
    "    old_ent = entropy(y)\n",
    "    label = y.iloc[:,-1]\n",
    "    target_data = y[split_feature]\n",
    "    new_data = pds.concat([target_data, label],axis=1)\n",
    "    type_of_new_data = list(set(new_data.iloc[:,0]))\n",
    "    num_of_type_of_new_data = len(type_of_new_data)\n",
    "    size_of_new_data = len(new_data)\n",
    "    \n",
    "    ent = 0\n",
    "    for i in range(num_of_type_of_new_data):\n",
    "        data_current = new_data[new_data[split_feature] == type_of_new_data[i]]\n",
    "        size_of_data_current = len(data_current)\n",
    "        p_of_data_current = size_of_data_current / size_of_new_data\n",
    "        ent_current = p_of_data_current*entropy(data_current)\n",
    "        ent += ent_current\n",
    "    gain = old_ent - ent\n",
    "    return gain"
   ]
  },
  {
   "cell_type": "code",
   "execution_count": 209,
   "metadata": {},
   "outputs": [
    {
     "data": {
      "text/plain": [
       "0.10812516526536531"
      ]
     },
     "execution_count": 209,
     "metadata": {},
     "output_type": "execute_result"
    }
   ],
   "source": [
    "info_gain(data_in_frame, \"色泽\")"
   ]
  },
  {
   "cell_type": "markdown",
   "metadata": {},
   "source": [
    "# Best selection"
   ]
  },
  {
   "cell_type": "code",
   "execution_count": 214,
   "metadata": {},
   "outputs": [],
   "source": [
    "def find_winner(y):\n",
    "    IG = []\n",
    "    for key in y.keys()[:-1]:\n",
    "        IG.append(info_gain(y, key))\n",
    "        best_key = y.keys()[np.argmax(IG)]\n",
    "    return best_key"
   ]
  },
  {
   "cell_type": "code",
   "execution_count": 215,
   "metadata": {},
   "outputs": [
    {
     "data": {
      "text/plain": [
       "'纹理'"
      ]
     },
     "execution_count": 215,
     "metadata": {},
     "output_type": "execute_result"
    }
   ],
   "source": [
    "find_winner(data_in_frame)"
   ]
  },
  {
   "cell_type": "markdown",
   "metadata": {},
   "source": [
    "# Get subtable"
   ]
  },
  {
   "cell_type": "code",
   "execution_count": 234,
   "metadata": {},
   "outputs": [],
   "source": [
    "def get_subtable(df, split_feature, feature_value):\n",
    "    return df[df[split_feature]==feature_value].reset_index(drop=True)"
   ]
  },
  {
   "cell_type": "markdown",
   "metadata": {},
   "source": [
    "# ID3 Tree"
   ]
  },
  {
   "cell_type": "markdown",
   "metadata": {},
   "source": [
    "## A wrong example"
   ]
  },
  {
   "cell_type": "markdown",
   "metadata": {},
   "source": [
    "This part shows a wrong example which change the feature space during the decision.\n",
    "Or to say, the feature space is involved into recursion"
   ]
  },
  {
   "cell_type": "code",
   "execution_count": 294,
   "metadata": {},
   "outputs": [],
   "source": [
    "def id3(data):\n",
    "    Class = data.keys()[-1]    #label\n",
    "    node = find_winner(data)\n",
    "    attvalue = np.unique(data[node])\n",
    "    tree = {}\n",
    "    tree[node] = {}\n",
    "    for value in attvalue:\n",
    "        subtable = get_subtable(data, node,value)\n",
    "        clvalue, counts = np.unique(subtable[Class], return_counts=True)\n",
    "        \n",
    "        if len(clvalue) == 1:\n",
    "            tree[node][value] = clvalue[0]\n",
    "        else:\n",
    "            tree[node][value] = id3(subtable)\n",
    "    return tree"
   ]
  },
  {
   "cell_type": "code",
   "execution_count": 293,
   "metadata": {},
   "outputs": [
    {
     "name": "stdout",
     "output_type": "stream",
     "text": [
      "{'纹理': {'模糊': '坏瓜',\n",
      "        '清晰': {'根蒂': {'硬挺': '坏瓜',\n",
      "                      '稍蜷': {'色泽': {'乌黑': {'触感': {'硬滑': '好瓜', '软粘': '坏瓜'}},\n",
      "                                    '青绿': '好瓜'}},\n",
      "                      '蜷缩': '好瓜'}},\n",
      "        '稍糊': {'触感': {'硬滑': '坏瓜', '软粘': '好瓜'}}}}\n"
     ]
    }
   ],
   "source": [
    "tree = id3(data_in_frame)\n",
    "import pprint\n",
    "pprint.pprint(tree)"
   ]
  },
  {
   "cell_type": "markdown",
   "metadata": {},
   "source": [
    "## A right example"
   ]
  },
  {
   "cell_type": "code",
   "execution_count": 328,
   "metadata": {},
   "outputs": [],
   "source": [
    "def buildtree(data):\n",
    "    #store the feature space first\n",
    "    attvalue_table = {}\n",
    "    for key in data.keys()[:-1]:\n",
    "        attvalue_table[key] = np.unique(data[key])\n",
    "    #print(attvalue_table)\n",
    "    def id3(data):\n",
    "        Class = data.keys()[-1]    #label\n",
    "        node = find_winner(data)\n",
    "        #print(node)\n",
    "        attvalue = attvalue_table[node]\n",
    "        #print(attvalue)\n",
    "        tree = {}\n",
    "        tree[node] = {}\n",
    "        for value in attvalue:\n",
    "            subtable = get_subtable(data, node,value)\n",
    "            clvalue, counts = np.unique(subtable[Class], return_counts=True)\n",
    "\n",
    "            if len(clvalue) == 1:\n",
    "                tree[node][value] = clvalue[0]\n",
    "            elif len(clvalue) == 0:\n",
    "                clvalue, counts = np.unique(data[Class], return_counts=True)\n",
    "                tree[node][value] = clvalue[np.argmax(counts)]\n",
    "            else:\n",
    "                tree[node][value] = id3(subtable)\n",
    "        return tree\n",
    "    tree = id3(data)\n",
    "    return tree"
   ]
  },
  {
   "cell_type": "code",
   "execution_count": 331,
   "metadata": {},
   "outputs": [
    {
     "name": "stdout",
     "output_type": "stream",
     "text": [
      "{'纹理': {'模糊': '坏瓜',\n",
      "        '清晰': {'根蒂': {'硬挺': '坏瓜',\n",
      "                      '稍蜷': {'色泽': {'乌黑': {'触感': {'硬滑': '好瓜', '软粘': '坏瓜'}},\n",
      "                                    '浅白': '好瓜',\n",
      "                                    '青绿': '好瓜'}},\n",
      "                      '蜷缩': '好瓜'}},\n",
      "        '稍糊': {'触感': {'硬滑': '坏瓜', '软粘': '好瓜'}}}}\n"
     ]
    }
   ],
   "source": [
    "tree = buildtree(data_in_frame)\n",
    "import pprint\n",
    "pprint.pprint(tree)"
   ]
  },
  {
   "cell_type": "markdown",
   "metadata": {},
   "source": [
    "<font color='red'>You can see \"浅白\" value in \"色泽\" feature has been considered now. </font>"
   ]
  },
  {
   "cell_type": "markdown",
   "metadata": {},
   "source": [
    "# Predict"
   ]
  },
  {
   "cell_type": "code",
   "execution_count": 364,
   "metadata": {},
   "outputs": [
    {
     "data": {
      "text/plain": [
       "{'纹理': {'模糊': '坏瓜',\n",
       "  '清晰': {'根蒂': {'硬挺': '坏瓜',\n",
       "    '稍蜷': {'色泽': {'乌黑': {'触感': {'硬滑': '好瓜', '软粘': '坏瓜'}},\n",
       "      '浅白': '好瓜',\n",
       "      '青绿': '好瓜'}},\n",
       "    '蜷缩': '好瓜'}},\n",
       "  '稍糊': {'触感': {'硬滑': '坏瓜', '软粘': '好瓜'}}}}"
      ]
     },
     "execution_count": 364,
     "metadata": {},
     "output_type": "execute_result"
    }
   ],
   "source": [
    "tree"
   ]
  },
  {
   "cell_type": "code",
   "execution_count": 509,
   "metadata": {},
   "outputs": [],
   "source": [
    "def predict_inst(inst, tree):\n",
    "    if type(tree) is not dict:\n",
    "        return tree\n",
    "    else:\n",
    "        key = list(tree.keys())[0]\n",
    "        value = inst[key]\n",
    "        tree = tree[key][value]\n",
    "        return predict_inst(inst, tree)\n",
    "\n",
    "def predict(data, tree):\n",
    "    \"\"\"\n",
    "    data: sample * features\n",
    "    \"\"\"\n",
    "    prediction = []\n",
    "    for i in range(len(data)):\n",
    "        x = data.iloc[i,:]\n",
    "        prediction.append(predict_inst(x, tree))\n",
    "    return prediction"
   ]
  },
  {
   "cell_type": "code",
   "execution_count": 518,
   "metadata": {},
   "outputs": [
    {
     "name": "stdout",
     "output_type": "stream",
     "text": [
      "100.00%\n"
     ]
    }
   ],
   "source": [
    "# Here I just use original data as test data \n",
    "# Just for verify the prediction code is right(if accuracy is 100%)\n",
    "test_data = data_in_frame.iloc[:,:-1]\n",
    "label_of_test_data = data_in_frame.iloc[:,-1]\n",
    "label_predicted = predict(test_data, tree)\n",
    "\n",
    "Accuracy = np.sum(label_of_test_data == label_predicted)/len(label_predicted)\n",
    "print(\"{:.2%}\".format(Accuracy))"
   ]
  }
 ],
 "metadata": {
  "kernelspec": {
   "display_name": "Python 3",
   "language": "python",
   "name": "python3"
  },
  "language_info": {
   "codemirror_mode": {
    "name": "ipython",
    "version": 3
   },
   "file_extension": ".py",
   "mimetype": "text/x-python",
   "name": "python",
   "nbconvert_exporter": "python",
   "pygments_lexer": "ipython3",
   "version": "3.7.1"
  }
 },
 "nbformat": 4,
 "nbformat_minor": 2
}
