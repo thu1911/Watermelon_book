{
 "cells": [
  {
   "cell_type": "markdown",
   "metadata": {},
   "source": [
    "In this task, I just use the watermelon dataset which is shown below."
   ]
  },
  {
   "cell_type": "markdown",
   "metadata": {},
   "source": [
    "# Dataset"
   ]
  },
  {
   "cell_type": "code",
   "execution_count": 32,
   "metadata": {},
   "outputs": [],
   "source": [
    "import numpy as np\n",
    "import seaborn as sns\n",
    "import pandas as pd\n",
    "import matplotlib.pyplot as plt\n",
    "import math"
   ]
  },
  {
   "cell_type": "code",
   "execution_count": 5,
   "metadata": {},
   "outputs": [],
   "source": [
    "def createDataSet():\n",
    "    \"\"\"\n",
    "    创建测试的数据集，里面的数值中具有连续值\n",
    "    :return:\n",
    "    \"\"\"\n",
    "    dataSet = [\n",
    "        # 1\n",
    "        ['青绿', '蜷缩', '浊响', '清晰', '凹陷', '硬滑', 0.697, 0.460, '好瓜'],\n",
    "        # 2\n",
    "        ['乌黑', '蜷缩', '沉闷', '清晰', '凹陷', '硬滑', 0.774, 0.376, '好瓜'],\n",
    "        # 3\n",
    "        ['乌黑', '蜷缩', '浊响', '清晰', '凹陷', '硬滑', 0.634, 0.264, '好瓜'],\n",
    "        # 4\n",
    "        ['青绿', '蜷缩', '沉闷', '清晰', '凹陷', '硬滑', 0.608, 0.318, '好瓜'],\n",
    "        # 5\n",
    "        ['浅白', '蜷缩', '浊响', '清晰', '凹陷', '硬滑', 0.556, 0.215, '好瓜'],\n",
    "        # 6\n",
    "        ['青绿', '稍蜷', '浊响', '清晰', '稍凹', '软粘', 0.403, 0.237, '好瓜'],\n",
    "        # 7\n",
    "        ['乌黑', '稍蜷', '浊响', '稍糊', '稍凹', '软粘', 0.481, 0.149, '好瓜'],\n",
    "        # 8\n",
    "        ['乌黑', '稍蜷', '浊响', '清晰', '稍凹', '硬滑', 0.437, 0.211, '好瓜'],\n",
    "\n",
    "        # ----------------------------------------------------\n",
    "        # 9\n",
    "        ['乌黑', '稍蜷', '沉闷', '稍糊', '稍凹', '硬滑', 0.666, 0.091, '坏瓜'],\n",
    "        # 10\n",
    "        ['青绿', '硬挺', '清脆', '清晰', '平坦', '软粘', 0.243, 0.267, '坏瓜'],\n",
    "        # 11\n",
    "        ['浅白', '硬挺', '清脆', '模糊', '平坦', '硬滑', 0.245, 0.057, '坏瓜'],\n",
    "        # 12\n",
    "        ['浅白', '蜷缩', '浊响', '模糊', '平坦', '软粘', 0.343, 0.099, '坏瓜'],\n",
    "        # 13\n",
    "        ['青绿', '稍蜷', '浊响', '稍糊', '凹陷', '硬滑', 0.639, 0.161, '坏瓜'],\n",
    "        # 14\n",
    "        ['浅白', '稍蜷', '沉闷', '稍糊', '凹陷', '硬滑', 0.657, 0.198, '坏瓜'],\n",
    "        # 15\n",
    "        ['乌黑', '稍蜷', '浊响', '清晰', '稍凹', '软粘', 0.360, 0.370, '坏瓜'],\n",
    "        # 16\n",
    "        ['浅白', '蜷缩', '浊响', '模糊', '平坦', '硬滑', 0.593, 0.042, '坏瓜'],\n",
    "        # 17\n",
    "        ['青绿', '蜷缩', '沉闷', '稍糊', '稍凹', '硬滑', 0.719, 0.103, '坏瓜']\n",
    "    ]\n",
    "    return dataSet"
   ]
  },
  {
   "cell_type": "code",
   "execution_count": 22,
   "metadata": {},
   "outputs": [],
   "source": [
    "dataSet = createDataSet()\n",
    "dataSet = np.array(dataSet)[:, 6:]\n",
    "dataSet[dataSet == '好瓜'] = 1\n",
    "dataSet[dataSet == '坏瓜'] = 0\n",
    "dataSet = dataSet.astype('float64')"
   ]
  },
  {
   "cell_type": "code",
   "execution_count": 23,
   "metadata": {},
   "outputs": [
    {
     "data": {
      "text/plain": [
       "array([[0.697, 0.46 , 1.   ],\n",
       "       [0.774, 0.376, 1.   ],\n",
       "       [0.634, 0.264, 1.   ],\n",
       "       [0.608, 0.318, 1.   ],\n",
       "       [0.556, 0.215, 1.   ],\n",
       "       [0.403, 0.237, 1.   ],\n",
       "       [0.481, 0.149, 1.   ],\n",
       "       [0.437, 0.211, 1.   ],\n",
       "       [0.666, 0.091, 0.   ],\n",
       "       [0.243, 0.267, 0.   ],\n",
       "       [0.245, 0.057, 0.   ],\n",
       "       [0.343, 0.099, 0.   ],\n",
       "       [0.639, 0.161, 0.   ],\n",
       "       [0.657, 0.198, 0.   ],\n",
       "       [0.36 , 0.37 , 0.   ],\n",
       "       [0.593, 0.042, 0.   ],\n",
       "       [0.719, 0.103, 0.   ]])"
      ]
     },
     "execution_count": 23,
     "metadata": {},
     "output_type": "execute_result"
    }
   ],
   "source": [
    "dataSet"
   ]
  },
  {
   "cell_type": "markdown",
   "metadata": {},
   "source": [
    "# Visulization"
   ]
  },
  {
   "cell_type": "code",
   "execution_count": 28,
   "metadata": {},
   "outputs": [],
   "source": [
    "data_in_frame = pd.DataFrame(data=dataSet, columns=[\"density\", \"sugar_ratio\",\"label\"])"
   ]
  },
  {
   "cell_type": "code",
   "execution_count": 29,
   "metadata": {},
   "outputs": [
    {
     "data": {
      "text/html": [
       "<div>\n",
       "<style scoped>\n",
       "    .dataframe tbody tr th:only-of-type {\n",
       "        vertical-align: middle;\n",
       "    }\n",
       "\n",
       "    .dataframe tbody tr th {\n",
       "        vertical-align: top;\n",
       "    }\n",
       "\n",
       "    .dataframe thead th {\n",
       "        text-align: right;\n",
       "    }\n",
       "</style>\n",
       "<table border=\"1\" class=\"dataframe\">\n",
       "  <thead>\n",
       "    <tr style=\"text-align: right;\">\n",
       "      <th></th>\n",
       "      <th>density</th>\n",
       "      <th>sugar_ratio</th>\n",
       "      <th>label</th>\n",
       "    </tr>\n",
       "  </thead>\n",
       "  <tbody>\n",
       "    <tr>\n",
       "      <th>0</th>\n",
       "      <td>0.697</td>\n",
       "      <td>0.460</td>\n",
       "      <td>1.0</td>\n",
       "    </tr>\n",
       "    <tr>\n",
       "      <th>1</th>\n",
       "      <td>0.774</td>\n",
       "      <td>0.376</td>\n",
       "      <td>1.0</td>\n",
       "    </tr>\n",
       "    <tr>\n",
       "      <th>2</th>\n",
       "      <td>0.634</td>\n",
       "      <td>0.264</td>\n",
       "      <td>1.0</td>\n",
       "    </tr>\n",
       "    <tr>\n",
       "      <th>3</th>\n",
       "      <td>0.608</td>\n",
       "      <td>0.318</td>\n",
       "      <td>1.0</td>\n",
       "    </tr>\n",
       "    <tr>\n",
       "      <th>4</th>\n",
       "      <td>0.556</td>\n",
       "      <td>0.215</td>\n",
       "      <td>1.0</td>\n",
       "    </tr>\n",
       "    <tr>\n",
       "      <th>5</th>\n",
       "      <td>0.403</td>\n",
       "      <td>0.237</td>\n",
       "      <td>1.0</td>\n",
       "    </tr>\n",
       "    <tr>\n",
       "      <th>6</th>\n",
       "      <td>0.481</td>\n",
       "      <td>0.149</td>\n",
       "      <td>1.0</td>\n",
       "    </tr>\n",
       "    <tr>\n",
       "      <th>7</th>\n",
       "      <td>0.437</td>\n",
       "      <td>0.211</td>\n",
       "      <td>1.0</td>\n",
       "    </tr>\n",
       "    <tr>\n",
       "      <th>8</th>\n",
       "      <td>0.666</td>\n",
       "      <td>0.091</td>\n",
       "      <td>0.0</td>\n",
       "    </tr>\n",
       "    <tr>\n",
       "      <th>9</th>\n",
       "      <td>0.243</td>\n",
       "      <td>0.267</td>\n",
       "      <td>0.0</td>\n",
       "    </tr>\n",
       "    <tr>\n",
       "      <th>10</th>\n",
       "      <td>0.245</td>\n",
       "      <td>0.057</td>\n",
       "      <td>0.0</td>\n",
       "    </tr>\n",
       "    <tr>\n",
       "      <th>11</th>\n",
       "      <td>0.343</td>\n",
       "      <td>0.099</td>\n",
       "      <td>0.0</td>\n",
       "    </tr>\n",
       "    <tr>\n",
       "      <th>12</th>\n",
       "      <td>0.639</td>\n",
       "      <td>0.161</td>\n",
       "      <td>0.0</td>\n",
       "    </tr>\n",
       "    <tr>\n",
       "      <th>13</th>\n",
       "      <td>0.657</td>\n",
       "      <td>0.198</td>\n",
       "      <td>0.0</td>\n",
       "    </tr>\n",
       "    <tr>\n",
       "      <th>14</th>\n",
       "      <td>0.360</td>\n",
       "      <td>0.370</td>\n",
       "      <td>0.0</td>\n",
       "    </tr>\n",
       "    <tr>\n",
       "      <th>15</th>\n",
       "      <td>0.593</td>\n",
       "      <td>0.042</td>\n",
       "      <td>0.0</td>\n",
       "    </tr>\n",
       "    <tr>\n",
       "      <th>16</th>\n",
       "      <td>0.719</td>\n",
       "      <td>0.103</td>\n",
       "      <td>0.0</td>\n",
       "    </tr>\n",
       "  </tbody>\n",
       "</table>\n",
       "</div>"
      ],
      "text/plain": [
       "    density  sugar_ratio  label\n",
       "0     0.697        0.460    1.0\n",
       "1     0.774        0.376    1.0\n",
       "2     0.634        0.264    1.0\n",
       "3     0.608        0.318    1.0\n",
       "4     0.556        0.215    1.0\n",
       "5     0.403        0.237    1.0\n",
       "6     0.481        0.149    1.0\n",
       "7     0.437        0.211    1.0\n",
       "8     0.666        0.091    0.0\n",
       "9     0.243        0.267    0.0\n",
       "10    0.245        0.057    0.0\n",
       "11    0.343        0.099    0.0\n",
       "12    0.639        0.161    0.0\n",
       "13    0.657        0.198    0.0\n",
       "14    0.360        0.370    0.0\n",
       "15    0.593        0.042    0.0\n",
       "16    0.719        0.103    0.0"
      ]
     },
     "execution_count": 29,
     "metadata": {},
     "output_type": "execute_result"
    }
   ],
   "source": [
    "data_in_frame"
   ]
  },
  {
   "cell_type": "code",
   "execution_count": 31,
   "metadata": {},
   "outputs": [
    {
     "data": {
      "text/plain": [
       "<matplotlib.axes._subplots.AxesSubplot at 0x7fc81b79f080>"
      ]
     },
     "execution_count": 31,
     "metadata": {},
     "output_type": "execute_result"
    },
    {
     "data": {
      "image/png": "[encoded data removed]",
      "text/plain": [
       "<Figure size 432x288 with 1 Axes>"
      ]
     },
     "metadata": {
      "needs_background": "light"
     },
     "output_type": "display_data"
    }
   ],
   "source": [
    "sns.scatterplot(data=data_in_frame, x='density', y=\"sugar_ratio\", hue=\"label\")"
   ]
  },
  {
   "cell_type": "markdown",
   "metadata": {},
   "source": [
    "# Prediction Format"
   ]
  },
  {
   "cell_type": "markdown",
   "metadata": {},
   "source": [
    "\\begin{split}p \\geq 0.5, class=1 \\\\\n",
    "p < 0.5, class=0\\end{split}\n",
    "\n"
   ]
  },
  {
   "cell_type": "markdown",
   "metadata": {},
   "source": [
    "\\begin{split}P(class=1) = \\frac{1} {1 + e^{-z}}\\end{split}"
   ]
  },
  {
   "cell_type": "code",
   "execution_count": 34,
   "metadata": {},
   "outputs": [],
   "source": [
    "def sigmoid(x, derivative=False):\n",
    "    sigm = 1. / (1. + np.exp(-x))\n",
    "    if derivative:\n",
    "        return sigm * (1. - sigm)\n",
    "    return sigm"
   ]
  },
  {
   "cell_type": "code",
   "execution_count": 33,
   "metadata": {},
   "outputs": [],
   "source": [
    "def predict(features, weights):\n",
    "    \"\"\"\n",
    "    features: sample size * feature size\n",
    "    weights: feature size * 1\n",
    "    \"\"\"\n",
    "    weights = weights.reshape(len(weights),1)\n",
    "    z = np.dot(features, weights)\n",
    "    return sigmoid(z)"
   ]
  },
  {
   "cell_type": "markdown",
   "metadata": {},
   "source": [
    "How could we do here? From Watermelon_book, we know that we can use MLE to estimate the parameters.\n",
    "\n",
    "Meanwhile we can also repeat what we did in last experiment where we just included a cost function and optimized the patameters by decrease the cost function."
   ]
  },
  {
   "cell_type": "markdown",
   "metadata": {},
   "source": [
    "# Cost function"
   ]
  },
  {
   "cell_type": "markdown",
   "metadata": {},
   "source": [
    "We can still use MSE as a cost function. But here what we use is called cross-entroy function actually. The reason why we abandon the previous one is another topic. Basicly, it's because of non-linear tranformation."
   ]
  },
  {
   "cell_type": "markdown",
   "metadata": {},
   "source": [
    "# \\begin{split}-{(y\\log(p) + (1 - y)\\log(1 - p))}\\end{split}"
   ]
  },
  {
   "cell_type": "code",
   "execution_count": 39,
   "metadata": {},
   "outputs": [],
   "source": [
    "def cost_function(features, weights, labels):\n",
    "    weights = weights.reshape(len(weights),1)\n",
    "    labels = labels.reshape(len(labels),1)\n",
    "    y = predict(features, weights)\n",
    "    class1_cost = -labels*np.log(y)\n",
    "    class2_cost = -labels*np.log(y)\n",
    "    cost = (class1_cost + class2_cost).sum()/len(labels)\n",
    "    return cost"
   ]
  },
  {
   "cell_type": "markdown",
   "metadata": {},
   "source": [
    "# Gradient descent "
   ]
  },
  {
   "cell_type": "markdown",
   "metadata": {},
   "source": [
    "\\begin{align}\n",
    "s'(z) & = s(z)(1 - s(z))\n",
    "\\end{align}"
   ]
  },
  {
   "cell_type": "markdown",
   "metadata": {},
   "source": [
    "\\begin{split}C' = x(s(z) - y)\\end{split}"
   ]
  },
  {
   "cell_type": "code",
   "execution_count": 66,
   "metadata": {},
   "outputs": [],
   "source": [
    "def update_weights(features, weights, labels, learning_rate):\n",
    "    weights = weights.reshape(len(weights),1)\n",
    "    labels = labels.reshape(len(labels),1)\n",
    "    p = predict(features, weights)\n",
    "    gradient = np.dot(features.T, p - labels) / len(labels)\n",
    "    weights = weights - gradient*learning_rate\n",
    "    return weights"
   ]
  },
  {
   "cell_type": "markdown",
   "metadata": {},
   "source": [
    "# Training"
   ]
  },
  {
   "cell_type": "code",
   "execution_count": 100,
   "metadata": {},
   "outputs": [],
   "source": [
    "def training(features, weights, labels, learning_rate, iters):\n",
    "    cost_history = []\n",
    "    for i in range(iters):\n",
    "        weights = update_weights(features, weights, labels, learning_rate)\n",
    "        cost = cost_function(features, weights, labels)\n",
    "        cost_history.append(cost)\n",
    "        if i%1000 == 0:\n",
    "            print(\"iters is %d \\t \\t cost is %f\"%(i, cost))\n",
    "    return weights, cost_history"
   ]
  },
  {
   "cell_type": "code",
   "execution_count": 107,
   "metadata": {},
   "outputs": [
    {
     "name": "stdout",
     "output_type": "stream",
     "text": [
      "iters is 0 \t \t cost is 0.651950\n",
      "iters is 1000 \t \t cost is 0.572514\n",
      "iters is 2000 \t \t cost is 0.546478\n",
      "iters is 3000 \t \t cost is 0.528388\n",
      "iters is 4000 \t \t cost is 0.515437\n",
      "iters is 5000 \t \t cost is 0.505936\n",
      "iters is 6000 \t \t cost is 0.498829\n",
      "iters is 7000 \t \t cost is 0.493431\n",
      "iters is 8000 \t \t cost is 0.489282\n",
      "iters is 9000 \t \t cost is 0.486062\n",
      "iters is 10000 \t \t cost is 0.483545\n",
      "iters is 11000 \t \t cost is 0.481564\n",
      "iters is 12000 \t \t cost is 0.479999\n",
      "iters is 13000 \t \t cost is 0.478757\n",
      "iters is 14000 \t \t cost is 0.477769\n",
      "iters is 15000 \t \t cost is 0.476981\n",
      "iters is 16000 \t \t cost is 0.476351\n",
      "iters is 17000 \t \t cost is 0.475847\n",
      "iters is 18000 \t \t cost is 0.475443\n",
      "iters is 19000 \t \t cost is 0.475119\n"
     ]
    }
   ],
   "source": [
    "weights_initial = np.array([0, 0])\n",
    "weights, cost_history = training(dataSet[:, :2], weights_initial, dataSet[:, -1], 0.1, 20000)"
   ]
  },
  {
   "cell_type": "markdown",
   "metadata": {},
   "source": [
    "# Model evaluation"
   ]
  },
  {
   "cell_type": "markdown",
   "metadata": {},
   "source": [
    "## Visulization"
   ]
  },
  {
   "cell_type": "code",
   "execution_count": 108,
   "metadata": {},
   "outputs": [
    {
     "data": {
      "text/plain": [
       "[<matplotlib.lines.Line2D at 0x7fc819b8eda0>]"
      ]
     },
     "execution_count": 108,
     "metadata": {},
     "output_type": "execute_result"
    },
    {
     "data": {
      "image/png": "[encoded data removed]",
      "text/plain": [
       "<Figure size 432x288 with 1 Axes>"
      ]
     },
     "metadata": {
      "needs_background": "light"
     },
     "output_type": "display_data"
    }
   ],
   "source": [
    "iters = np.arange(20000)\n",
    "plt.plot(iters, cost_history)"
   ]
  },
  {
   "cell_type": "markdown",
   "metadata": {},
   "source": [
    "From the fig abobe, we can think the cost function may still decrease when we update the weights furthur."
   ]
  },
  {
   "cell_type": "markdown",
   "metadata": {},
   "source": [
    "## Mapping probabilities to classes"
   ]
  },
  {
   "cell_type": "code",
   "execution_count": 135,
   "metadata": {},
   "outputs": [],
   "source": [
    "def classify(predictions):\n",
    "    predictions[predictions >= 0.5 ] = 1\n",
    "    predictions[predictions < 0.5 ] = 0\n",
    "    return predictions\n",
    "def accuracy(predictions, labels):\n",
    "    predictions = predictions.astype('int').reshape(len(predictions,))\n",
    "    labels = labels.astype('int')\n",
    "    diff = np.abs(predictions - labels)\n",
    "    same = len(labels) - diff.sum()\n",
    "    return same/len(labels)"
   ]
  },
  {
   "cell_type": "code",
   "execution_count": 128,
   "metadata": {},
   "outputs": [],
   "source": [
    "predicted_label = classify(predict(dataSet[:, :2], weights))"
   ]
  },
  {
   "cell_type": "code",
   "execution_count": 136,
   "metadata": {},
   "outputs": [
    {
     "data": {
      "text/plain": [
       "0.8235294117647058"
      ]
     },
     "execution_count": 136,
     "metadata": {},
     "output_type": "execute_result"
    }
   ],
   "source": [
    "accuracy(predicted_label, dataSet[:, -1])"
   ]
  }
 ],
 "metadata": {
  "kernelspec": {
   "display_name": "Python 3",
   "language": "python",
   "name": "python3"
  },
  "language_info": {
   "codemirror_mode": {
    "name": "ipython",
    "version": 3
   },
   "file_extension": ".py",
   "mimetype": "text/x-python",
   "name": "python",
   "nbconvert_exporter": "python",
   "pygments_lexer": "ipython3",
   "version": "3.7.1"
  }
 },
 "nbformat": 4,
 "nbformat_minor": 2
}
